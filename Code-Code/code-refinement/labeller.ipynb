{
 "cells": [
  {
   "cell_type": "code",
   "execution_count": 1,
   "id": "d2f4c257",
   "metadata": {},
   "outputs": [],
   "source": [
    "import pandas as pd"
   ]
  },
  {
   "cell_type": "code",
   "execution_count": 2,
   "id": "9918cc07",
   "metadata": {},
   "outputs": [],
   "source": [
    "dataset='50-100'"
   ]
  },
  {
   "cell_type": "code",
   "execution_count": 3,
   "id": "df601b90",
   "metadata": {},
   "outputs": [
    {
     "name": "stderr",
     "output_type": "stream",
     "text": [
      "/tmp/ipykernel_18689/3422500715.py:1: ParserWarning: Falling back to the 'python' engine because the 'c' engine does not support regex separators (separators > 1 char and different from '\\s+' are interpreted as regex); you can avoid this warning by specifying engine='python'.\n",
      "  df_f = pd.read_csv(f'./data/datasets/{dataset}/fixed_all.txt', sep='ARMIN', names=['code'])\n",
      "/tmp/ipykernel_18689/3422500715.py:2: ParserWarning: Falling back to the 'python' engine because the 'c' engine does not support regex separators (separators > 1 char and different from '\\s+' are interpreted as regex); you can avoid this warning by specifying engine='python'.\n",
      "  df_b = pd.read_csv(f'./data/datasets/{dataset}/buggy_all.txt', sep='ARMIN', names=['code'])\n"
     ]
    },
    {
     "data": {
      "text/html": [
       "<div>\n",
       "<style scoped>\n",
       "    .dataframe tbody tr th:only-of-type {\n",
       "        vertical-align: middle;\n",
       "    }\n",
       "\n",
       "    .dataframe tbody tr th {\n",
       "        vertical-align: top;\n",
       "    }\n",
       "\n",
       "    .dataframe thead th {\n",
       "        text-align: right;\n",
       "    }\n",
       "</style>\n",
       "<table border=\"1\" class=\"dataframe\">\n",
       "  <thead>\n",
       "    <tr style=\"text-align: right;\">\n",
       "      <th></th>\n",
       "      <th>code</th>\n",
       "    </tr>\n",
       "  </thead>\n",
       "  <tbody>\n",
       "    <tr>\n",
       "      <th>0</th>\n",
       "      <td>private void METHOD_1 ( TYPE_1 VAR_1 ) { VAR_2...</td>\n",
       "    </tr>\n",
       "  </tbody>\n",
       "</table>\n",
       "</div>"
      ],
      "text/plain": [
       "                                                code\n",
       "0  private void METHOD_1 ( TYPE_1 VAR_1 ) { VAR_2..."
      ]
     },
     "execution_count": 3,
     "metadata": {},
     "output_type": "execute_result"
    }
   ],
   "source": [
    "df_f = pd.read_csv(f'./data/datasets/{dataset}/fixed_all.txt', sep='ARMIN', names=['code'])\n",
    "df_b = pd.read_csv(f'./data/datasets/{dataset}/buggy_all.txt', sep='ARMIN', names=['code'])\n",
    "df_f.head(1)"
   ]
  },
  {
   "cell_type": "code",
   "execution_count": 4,
   "id": "6e05d670",
   "metadata": {},
   "outputs": [
    {
     "data": {
      "text/html": [
       "<div>\n",
       "<style scoped>\n",
       "    .dataframe tbody tr th:only-of-type {\n",
       "        vertical-align: middle;\n",
       "    }\n",
       "\n",
       "    .dataframe tbody tr th {\n",
       "        vertical-align: top;\n",
       "    }\n",
       "\n",
       "    .dataframe thead th {\n",
       "        text-align: right;\n",
       "    }\n",
       "</style>\n",
       "<table border=\"1\" class=\"dataframe\">\n",
       "  <thead>\n",
       "    <tr style=\"text-align: right;\">\n",
       "      <th></th>\n",
       "      <th>code</th>\n",
       "    </tr>\n",
       "  </thead>\n",
       "  <tbody>\n",
       "    <tr>\n",
       "      <th>0</th>\n",
       "      <td>private void METHOD_1 ( TYPE_1 VAR_1 ) { VAR_2...</td>\n",
       "    </tr>\n",
       "  </tbody>\n",
       "</table>\n",
       "</div>"
      ],
      "text/plain": [
       "                                                code\n",
       "0  private void METHOD_1 ( TYPE_1 VAR_1 ) { VAR_2..."
      ]
     },
     "execution_count": 4,
     "metadata": {},
     "output_type": "execute_result"
    }
   ],
   "source": [
    "df_b.head(1)"
   ]
  },
  {
   "cell_type": "code",
   "execution_count": 5,
   "id": "45e6c87a",
   "metadata": {},
   "outputs": [
    {
     "data": {
      "text/html": [
       "<div>\n",
       "<style scoped>\n",
       "    .dataframe tbody tr th:only-of-type {\n",
       "        vertical-align: middle;\n",
       "    }\n",
       "\n",
       "    .dataframe tbody tr th {\n",
       "        vertical-align: top;\n",
       "    }\n",
       "\n",
       "    .dataframe thead th {\n",
       "        text-align: right;\n",
       "    }\n",
       "</style>\n",
       "<table border=\"1\" class=\"dataframe\">\n",
       "  <thead>\n",
       "    <tr style=\"text-align: right;\">\n",
       "      <th></th>\n",
       "      <th>ind</th>\n",
       "      <th>commit</th>\n",
       "      <th>a</th>\n",
       "      <th>b</th>\n",
       "    </tr>\n",
       "  </thead>\n",
       "  <tbody>\n",
       "    <tr>\n",
       "      <th>0</th>\n",
       "      <td>1</td>\n",
       "      <td>d4eb9d26c5882a03866a7e09a74401f8dd13070e</td>\n",
       "      <td>1</td>\n",
       "      <td>4</td>\n",
       "    </tr>\n",
       "  </tbody>\n",
       "</table>\n",
       "</div>"
      ],
      "text/plain": [
       "   ind                                    commit  a  b\n",
       "0    1  d4eb9d26c5882a03866a7e09a74401f8dd13070e  1  4"
      ]
     },
     "execution_count": 5,
     "metadata": {},
     "output_type": "execute_result"
    }
   ],
   "source": [
    "mapping = pd.read_csv(f'./data/datasets/{dataset}/bugfixes.key.csv', names=['ind', 'commit', 'a', 'b'])\n",
    "mapping.head(1)"
   ]
  },
  {
   "cell_type": "code",
   "execution_count": 6,
   "id": "5c8e41da",
   "metadata": {},
   "outputs": [
    {
     "data": {
      "text/html": [
       "<div>\n",
       "<style scoped>\n",
       "    .dataframe tbody tr th:only-of-type {\n",
       "        vertical-align: middle;\n",
       "    }\n",
       "\n",
       "    .dataframe tbody tr th {\n",
       "        vertical-align: top;\n",
       "    }\n",
       "\n",
       "    .dataframe thead th {\n",
       "        text-align: right;\n",
       "    }\n",
       "</style>\n",
       "<table border=\"1\" class=\"dataframe\">\n",
       "  <thead>\n",
       "    <tr style=\"text-align: right;\">\n",
       "      <th></th>\n",
       "      <th>commit</th>\n",
       "      <th>repo</th>\n",
       "      <th>url-commit</th>\n",
       "      <th>comment</th>\n",
       "    </tr>\n",
       "  </thead>\n",
       "  <tbody>\n",
       "    <tr>\n",
       "      <th>0</th>\n",
       "      <td>8b33304d8c7e2ac27a9c33dccc7a9c73599eba9d</td>\n",
       "      <td>https://api.github.com/repos/Moligaloo/QSanguosha</td>\n",
       "      <td>https://github.com/Moligaloo/QSanguosha/commit...</td>\n",
       "      <td>Fix some bugs of AI and delete useless code</td>\n",
       "    </tr>\n",
       "  </tbody>\n",
       "</table>\n",
       "</div>"
      ],
      "text/plain": [
       "                                     commit  \\\n",
       "0  8b33304d8c7e2ac27a9c33dccc7a9c73599eba9d   \n",
       "\n",
       "                                                repo  \\\n",
       "0  https://api.github.com/repos/Moligaloo/QSanguosha   \n",
       "\n",
       "                                          url-commit  \\\n",
       "0  https://github.com/Moligaloo/QSanguosha/commit...   \n",
       "\n",
       "                                       comment  \n",
       "0  Fix some bugs of AI and delete useless code  "
      ]
     },
     "execution_count": 6,
     "metadata": {},
     "output_type": "execute_result"
    }
   ],
   "source": [
    "commits = pd.read_csv('./data/datasets/bugfixing-commits.csv', names=['commit', 'repo', 'url-commit', 'comment'])\n",
    "commits.head(1)"
   ]
  },
  {
   "cell_type": "code",
   "execution_count": 7,
   "id": "1dec9d29",
   "metadata": {},
   "outputs": [
    {
     "data": {
      "text/plain": [
       "(65455, 65455, 65455, 10054468)"
      ]
     },
     "execution_count": 7,
     "metadata": {},
     "output_type": "execute_result"
    }
   ],
   "source": [
    "len(df_f), len(df_b), len(mapping), len(commits)"
   ]
  },
  {
   "cell_type": "code",
   "execution_count": 8,
   "id": "4388e5df",
   "metadata": {},
   "outputs": [],
   "source": [
    "df_f['commit'] = mapping['commit']\n",
    "df_b['commit'] = mapping['commit']"
   ]
  },
  {
   "cell_type": "code",
   "execution_count": 9,
   "id": "49314a09",
   "metadata": {},
   "outputs": [],
   "source": [
    "joined_f = pd.merge(df_f, commits, on='commit', how='left')"
   ]
  },
  {
   "cell_type": "code",
   "execution_count": 10,
   "id": "318222d4",
   "metadata": {},
   "outputs": [
    {
     "data": {
      "text/html": [
       "<div>\n",
       "<style scoped>\n",
       "    .dataframe tbody tr th:only-of-type {\n",
       "        vertical-align: middle;\n",
       "    }\n",
       "\n",
       "    .dataframe tbody tr th {\n",
       "        vertical-align: top;\n",
       "    }\n",
       "\n",
       "    .dataframe thead th {\n",
       "        text-align: right;\n",
       "    }\n",
       "</style>\n",
       "<table border=\"1\" class=\"dataframe\">\n",
       "  <thead>\n",
       "    <tr style=\"text-align: right;\">\n",
       "      <th></th>\n",
       "      <th>code</th>\n",
       "      <th>commit</th>\n",
       "      <th>repo</th>\n",
       "      <th>url-commit</th>\n",
       "      <th>comment</th>\n",
       "    </tr>\n",
       "  </thead>\n",
       "  <tbody>\n",
       "    <tr>\n",
       "      <th>0</th>\n",
       "      <td>private void METHOD_1 ( TYPE_1 VAR_1 ) { VAR_2...</td>\n",
       "      <td>d4eb9d26c5882a03866a7e09a74401f8dd13070e</td>\n",
       "      <td>https://api.github.com/repos/xujianhai/mycat-n...</td>\n",
       "      <td>https://github.com/xujianhai/mycat-netty/commi...</td>\n",
       "      <td>bugfix logger problem</td>\n",
       "    </tr>\n",
       "  </tbody>\n",
       "</table>\n",
       "</div>"
      ],
      "text/plain": [
       "                                                code  \\\n",
       "0  private void METHOD_1 ( TYPE_1 VAR_1 ) { VAR_2...   \n",
       "\n",
       "                                     commit  \\\n",
       "0  d4eb9d26c5882a03866a7e09a74401f8dd13070e   \n",
       "\n",
       "                                                repo  \\\n",
       "0  https://api.github.com/repos/xujianhai/mycat-n...   \n",
       "\n",
       "                                          url-commit                comment  \n",
       "0  https://github.com/xujianhai/mycat-netty/commi...  bugfix logger problem  "
      ]
     },
     "execution_count": 10,
     "metadata": {},
     "output_type": "execute_result"
    }
   ],
   "source": [
    "joined_f.head(1)"
   ]
  },
  {
   "cell_type": "code",
   "execution_count": 11,
   "id": "06ae17d9",
   "metadata": {},
   "outputs": [],
   "source": [
    "joined_b = pd.merge(df_b, commits, on='commit', how='left')"
   ]
  },
  {
   "cell_type": "code",
   "execution_count": 12,
   "id": "e7563af0",
   "metadata": {},
   "outputs": [
    {
     "data": {
      "text/html": [
       "<div>\n",
       "<style scoped>\n",
       "    .dataframe tbody tr th:only-of-type {\n",
       "        vertical-align: middle;\n",
       "    }\n",
       "\n",
       "    .dataframe tbody tr th {\n",
       "        vertical-align: top;\n",
       "    }\n",
       "\n",
       "    .dataframe thead th {\n",
       "        text-align: right;\n",
       "    }\n",
       "</style>\n",
       "<table border=\"1\" class=\"dataframe\">\n",
       "  <thead>\n",
       "    <tr style=\"text-align: right;\">\n",
       "      <th></th>\n",
       "      <th>code</th>\n",
       "      <th>commit</th>\n",
       "      <th>repo</th>\n",
       "      <th>url-commit</th>\n",
       "      <th>comment</th>\n",
       "    </tr>\n",
       "  </thead>\n",
       "  <tbody>\n",
       "    <tr>\n",
       "      <th>0</th>\n",
       "      <td>private void METHOD_1 ( TYPE_1 VAR_1 ) { VAR_2...</td>\n",
       "      <td>d4eb9d26c5882a03866a7e09a74401f8dd13070e</td>\n",
       "      <td>https://api.github.com/repos/xujianhai/mycat-n...</td>\n",
       "      <td>https://github.com/xujianhai/mycat-netty/commi...</td>\n",
       "      <td>bugfix logger problem</td>\n",
       "    </tr>\n",
       "  </tbody>\n",
       "</table>\n",
       "</div>"
      ],
      "text/plain": [
       "                                                code  \\\n",
       "0  private void METHOD_1 ( TYPE_1 VAR_1 ) { VAR_2...   \n",
       "\n",
       "                                     commit  \\\n",
       "0  d4eb9d26c5882a03866a7e09a74401f8dd13070e   \n",
       "\n",
       "                                                repo  \\\n",
       "0  https://api.github.com/repos/xujianhai/mycat-n...   \n",
       "\n",
       "                                          url-commit                comment  \n",
       "0  https://github.com/xujianhai/mycat-netty/commi...  bugfix logger problem  "
      ]
     },
     "execution_count": 12,
     "metadata": {},
     "output_type": "execute_result"
    }
   ],
   "source": [
    "joined_b.head(1)"
   ]
  },
  {
   "cell_type": "code",
   "execution_count": null,
   "id": "59fc2abb",
   "metadata": {},
   "outputs": [],
   "source": []
  },
  {
   "cell_type": "code",
   "execution_count": 13,
   "id": "c425c712",
   "metadata": {},
   "outputs": [
    {
     "data": {
      "text/plain": [
       "(65455,\n",
       " 65455,\n",
       " code          False\n",
       " commit        False\n",
       " repo           True\n",
       " url-commit     True\n",
       " comment        True\n",
       " dtype: bool,\n",
       " code          False\n",
       " commit        False\n",
       " repo           True\n",
       " url-commit     True\n",
       " comment        True\n",
       " dtype: bool)"
      ]
     },
     "execution_count": 13,
     "metadata": {},
     "output_type": "execute_result"
    }
   ],
   "source": [
    "len(joined_f), len(joined_b), joined_f.isna().any(), joined_b.isna().any()"
   ]
  },
  {
   "cell_type": "code",
   "execution_count": 14,
   "id": "0955ab54",
   "metadata": {},
   "outputs": [
    {
     "data": {
      "text/plain": [
       "code           0\n",
       "commit         0\n",
       "repo          14\n",
       "url-commit    14\n",
       "comment       14\n",
       "dtype: int64"
      ]
     },
     "execution_count": 14,
     "metadata": {},
     "output_type": "execute_result"
    }
   ],
   "source": [
    "# joined_f[joined_f['repo'].isna()]\n",
    "joined_f.isna().sum()"
   ]
  },
  {
   "cell_type": "code",
   "execution_count": 15,
   "id": "7bbb5d58",
   "metadata": {},
   "outputs": [],
   "source": [
    "joined_f.to_csv(f'./data/datasets/{dataset}/fixed_labelled.csv')\n",
    "joined_b.to_csv(f'./data/datasets/{dataset}/buggy_labelled.csv')"
   ]
  },
  {
   "cell_type": "code",
   "execution_count": null,
   "id": "080b1a6f",
   "metadata": {},
   "outputs": [],
   "source": []
  },
  {
   "cell_type": "code",
   "execution_count": null,
   "id": "5ead40ca",
   "metadata": {},
   "outputs": [],
   "source": []
  },
  {
   "cell_type": "code",
   "execution_count": null,
   "id": "7b39b9f1",
   "metadata": {},
   "outputs": [],
   "source": []
  },
  {
   "cell_type": "code",
   "execution_count": null,
   "id": "519689b5",
   "metadata": {},
   "outputs": [],
   "source": []
  },
  {
   "cell_type": "code",
   "execution_count": null,
   "id": "27eda845",
   "metadata": {},
   "outputs": [],
   "source": []
  },
  {
   "cell_type": "code",
   "execution_count": null,
   "id": "9aa7a7ea",
   "metadata": {},
   "outputs": [],
   "source": [
    " "
   ]
  }
 ],
 "metadata": {
  "kernelspec": {
   "display_name": "Python 3",
   "language": "python",
   "name": "python3"
  },
  "language_info": {
   "codemirror_mode": {
    "name": "ipython",
    "version": 3
   },
   "file_extension": ".py",
   "mimetype": "text/x-python",
   "name": "python",
   "nbconvert_exporter": "python",
   "pygments_lexer": "ipython3",
   "version": "3.8.10"
  }
 },
 "nbformat": 4,
 "nbformat_minor": 5
}
