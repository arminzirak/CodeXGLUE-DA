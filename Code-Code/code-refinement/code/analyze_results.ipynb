{
 "cells": [
  {
   "cell_type": "code",
   "execution_count": 1,
   "id": "334dde5b",
   "metadata": {},
   "outputs": [],
   "source": [
    "import pandas as pd"
   ]
  },
  {
   "cell_type": "code",
   "execution_count": 5,
   "id": "bfbfa581",
   "metadata": {},
   "outputs": [
    {
     "data": {
      "text/html": [
       "<div>\n",
       "<style scoped>\n",
       "    .dataframe tbody tr th:only-of-type {\n",
       "        vertical-align: middle;\n",
       "    }\n",
       "\n",
       "    .dataframe tbody tr th {\n",
       "        vertical-align: top;\n",
       "    }\n",
       "\n",
       "    .dataframe thead th {\n",
       "        text-align: right;\n",
       "    }\n",
       "</style>\n",
       "<table border=\"1\" class=\"dataframe\">\n",
       "  <thead>\n",
       "    <tr style=\"text-align: right;\">\n",
       "      <th></th>\n",
       "      <th>name</th>\n",
       "      <th>repo</th>\n",
       "      <th>xmatch</th>\n",
       "      <th>blue</th>\n",
       "      <th>samples</th>\n",
       "      <th>date</th>\n",
       "      <th>model</th>\n",
       "    </tr>\n",
       "  </thead>\n",
       "  <tbody>\n",
       "    <tr>\n",
       "      <th>0</th>\n",
       "      <td>normal</td>\n",
       "      <td>all</td>\n",
       "      <td>7.38</td>\n",
       "      <td>77.54</td>\n",
       "      <td>149</td>\n",
       "      <td>15-05-2022_23-38-53</td>\n",
       "      <td>/home/arminz/scratch/Xoutputs/train_source/che...</td>\n",
       "    </tr>\n",
       "  </tbody>\n",
       "</table>\n",
       "</div>"
      ],
      "text/plain": [
       "     name repo  xmatch   blue  samples                 date  \\\n",
       "0  normal  all    7.38  77.54      149  15-05-2022_23-38-53   \n",
       "\n",
       "                                               model  \n",
       "0  /home/arminz/scratch/Xoutputs/train_source/che...  "
      ]
     },
     "execution_count": 5,
     "metadata": {},
     "output_type": "execute_result"
    }
   ],
   "source": [
    "results = pd.read_csv('../results.csv', names=['name', 'repo', 'xmatch', 'blue', 'samples', 'date', 'model'])\n",
    "results.head(1)"
   ]
  },
  {
   "cell_type": "code",
   "execution_count": 24,
   "id": "5b202d8d",
   "metadata": {},
   "outputs": [],
   "source": [
    "def print_stats(df):\n",
    "    print(len(df))\n",
    "    print(f\"xmatch: {(df['xmatch'] * df['samples']).sum() / df['samples'].sum():.2f}\", f\"{df['xmatch'].mean():.2f}\", f\"{df['xmatch'].median():.2f}\")\n",
    "    print(f\"blue: {(df['blue'] * df['samples']).sum() / df['samples'].sum():.2f}\", f\"{df['blue'].mean():.2f}\", f\"{df['blue'].median():.2f}\")    "
   ]
  },
  {
   "cell_type": "code",
   "execution_count": 25,
   "id": "c972ddca",
   "metadata": {},
   "outputs": [
    {
     "name": "stdout",
     "output_type": "stream",
     "text": [
      "22\n",
      "xmatch: 20.13 18.97 12.70\n",
      "blue: 79.15 77.53 78.11\n"
     ]
    }
   ],
   "source": [
    "print_stats(results)"
   ]
  },
  {
   "cell_type": "code",
   "execution_count": 29,
   "id": "63fad18b",
   "metadata": {},
   "outputs": [
    {
     "name": "stdout",
     "output_type": "stream",
     "text": [
      "10\n",
      "xmatch: 38.93 28.43 17.43\n",
      "blue: 81.19 78.29 79.35\n"
     ]
    }
   ],
   "source": [
    "print_stats(results[(results['repo'] != 'all') & results['model'].apply(lambda d: 'adapted' in d)])"
   ]
  },
  {
   "cell_type": "code",
   "execution_count": 31,
   "id": "837f843d",
   "metadata": {},
   "outputs": [
    {
     "name": "stdout",
     "output_type": "stream",
     "text": [
      "10\n",
      "xmatch: 7.38 9.88 8.33\n",
      "blue: 74.50 76.20 75.75\n"
     ]
    }
   ],
   "source": [
    "print_stats(results[(results['repo'] != 'all') &  ~results['model'].apply(lambda d: 'adapted' in d)])"
   ]
  }
 ],
 "metadata": {
  "kernelspec": {
   "display_name": "Python 3",
   "language": "python",
   "name": "python3"
  },
  "language_info": {
   "codemirror_mode": {
    "name": "ipython",
    "version": 3
   },
   "file_extension": ".py",
   "mimetype": "text/x-python",
   "name": "python",
   "nbconvert_exporter": "python",
   "pygments_lexer": "ipython3",
   "version": "3.8.10"
  }
 },
 "nbformat": 4,
 "nbformat_minor": 5
}
