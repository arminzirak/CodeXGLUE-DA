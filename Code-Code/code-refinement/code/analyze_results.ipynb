{
 "cells": [
  {
   "cell_type": "code",
   "execution_count": 311,
   "id": "334dde5b",
   "metadata": {},
   "outputs": [],
   "source": [
    "import pandas as pd"
   ]
  },
  {
   "cell_type": "code",
   "execution_count": 341,
   "id": "bfbfa581",
   "metadata": {},
   "outputs": [
    {
     "data": {
      "text/html": [
       "<div>\n",
       "<style scoped>\n",
       "    .dataframe tbody tr th:only-of-type {\n",
       "        vertical-align: middle;\n",
       "    }\n",
       "\n",
       "    .dataframe tbody tr th {\n",
       "        vertical-align: top;\n",
       "    }\n",
       "\n",
       "    .dataframe thead th {\n",
       "        text-align: right;\n",
       "    }\n",
       "</style>\n",
       "<table border=\"1\" class=\"dataframe\">\n",
       "  <thead>\n",
       "    <tr style=\"text-align: right;\">\n",
       "      <th></th>\n",
       "      <th>name</th>\n",
       "      <th>repo</th>\n",
       "      <th>xmatch</th>\n",
       "      <th>blue</th>\n",
       "      <th>samples</th>\n",
       "      <th>date</th>\n",
       "      <th>model</th>\n",
       "    </tr>\n",
       "  </thead>\n",
       "  <tbody>\n",
       "    <tr>\n",
       "      <th>0</th>\n",
       "      <td>normal</td>\n",
       "      <td>all</td>\n",
       "      <td>7.38</td>\n",
       "      <td>77.54</td>\n",
       "      <td>149</td>\n",
       "      <td>15-05-2022_23-38-53</td>\n",
       "      <td>/home/arminz/scratch/Xoutputs/train_source/che...</td>\n",
       "    </tr>\n",
       "  </tbody>\n",
       "</table>\n",
       "</div>"
      ],
      "text/plain": [
       "     name repo  xmatch   blue  samples                 date  \\\n",
       "0  normal  all    7.38  77.54      149  15-05-2022_23-38-53   \n",
       "\n",
       "                                               model  \n",
       "0  /home/arminz/scratch/Xoutputs/train_source/che...  "
      ]
     },
     "execution_count": 341,
     "metadata": {},
     "output_type": "execute_result"
    }
   ],
   "source": [
    "results = pd.read_csv('../results.csv', names=['name', 'repo', 'xmatch', 'blue', 'samples', 'date', 'model'])\n",
    "results.head(1)"
   ]
  },
  {
   "cell_type": "code",
   "execution_count": 342,
   "id": "5b202d8d",
   "metadata": {},
   "outputs": [],
   "source": [
    "def print_stats(df):\n",
    "    print(len(df))\n",
    "    print(f\"xmatch: {(df['xmatch'] * df['samples']).sum() / df['samples'].sum():.2f}\", f\"{df['xmatch'].mean():.2f}\", f\"{df['xmatch'].median():.2f}\")\n",
    "    print(f\"blue: {(df['blue'] * df['samples']).sum() / df['samples'].sum():.2f}\", f\"{df['blue'].mean():.2f}\", f\"{df['blue'].median():.2f}\")    "
   ]
  },
  {
   "cell_type": "code",
   "execution_count": 343,
   "id": "c972ddca",
   "metadata": {},
   "outputs": [],
   "source": [
    "# print_stats(results)"
   ]
  },
  {
   "cell_type": "code",
   "execution_count": 344,
   "id": "63fad18b",
   "metadata": {},
   "outputs": [
    {
     "name": "stdout",
     "output_type": "stream",
     "text": [
      "7\n",
      "xmatch: 22.68 21.99 16.67\n",
      "blue: 74.30 73.71 78.15\n"
     ]
    }
   ],
   "source": [
    "print_stats(results[(results['repo'] != 'all') & results['model'].apply(lambda d: 'adapted' in d and not 'reverse' in d)])"
   ]
  },
  {
   "cell_type": "code",
   "execution_count": 345,
   "id": "837f843d",
   "metadata": {},
   "outputs": [
    {
     "name": "stdout",
     "output_type": "stream",
     "text": [
      "7\n",
      "xmatch: 7.21 7.77 8.33\n",
      "blue: 74.26 74.54 73.59\n"
     ]
    }
   ],
   "source": [
    "print_stats(results[(results['repo'] != 'all') &  ~results['model'].apply(lambda d: 'adapted' in d)])"
   ]
  },
  {
   "cell_type": "code",
   "execution_count": 346,
   "id": "5773d173",
   "metadata": {},
   "outputs": [
    {
     "name": "stdout",
     "output_type": "stream",
     "text": [
      "7\n",
      "xmatch: 10.31 11.07 10.00\n",
      "blue: 76.76 77.49 75.57\n"
     ]
    }
   ],
   "source": [
    "print_stats(results[(results['repo'] != 'all') &  results['model'].apply(lambda d: 'adapted' in d and 'reverse' in d)])"
   ]
  },
  {
   "cell_type": "code",
   "execution_count": 347,
   "id": "5f323acd",
   "metadata": {},
   "outputs": [],
   "source": [
    "results_ = results.set_index('repo')"
   ]
  },
  {
   "cell_type": "code",
   "execution_count": 337,
   "id": "6358e2f0",
   "metadata": {},
   "outputs": [],
   "source": [
    "results_adapted = results[(results['repo'] != 'all') & results['model'].apply(lambda d: 'adapted' in d and not 'reverse' in d)]"
   ]
  },
  {
   "cell_type": "code",
   "execution_count": 338,
   "id": "44173ff0",
   "metadata": {},
   "outputs": [],
   "source": [
    "results_excluded = results[(results['repo'] != 'all') &  ~results['model'].apply(lambda d: 'adapted' in d)]"
   ]
  },
  {
   "cell_type": "code",
   "execution_count": 339,
   "id": "c795f700",
   "metadata": {},
   "outputs": [],
   "source": [
    "results_m = results[(results['repo'] != 'all') &  results['model'].apply(lambda d: 'adapted' in d and 'reverse' in d)]"
   ]
  },
  {
   "cell_type": "code",
   "execution_count": 322,
   "id": "231db3b3",
   "metadata": {},
   "outputs": [],
   "source": [
    "a = results_excluded.sort_values(by='samples')#.set_index('repo')\n",
    "b = results_adapted.sort_values(by='samples')#.set_index('repo')\n",
    "c = results_m.sort_values(by='samples')#.set_index('repo')"
   ]
  },
  {
   "cell_type": "code",
   "execution_count": 323,
   "id": "7a61d618",
   "metadata": {},
   "outputs": [],
   "source": [
    "import matplotlib.pyplot as plt"
   ]
  },
  {
   "cell_type": "code",
   "execution_count": 324,
   "id": "546b453c",
   "metadata": {},
   "outputs": [
    {
     "data": {
      "text/plain": [
       "<matplotlib.legend.Legend at 0x7f9eacfecc40>"
      ]
     },
     "execution_count": 324,
     "metadata": {},
     "output_type": "execute_result"
    },
    {
     "data": {
      "image/png": "[encoded data removed]",
      "text/plain": [
       "<Figure size 432x288 with 1 Axes>"
      ]
     },
     "metadata": {
      "needs_background": "light"
     },
     "output_type": "display_data"
    }
   ],
   "source": [
    "plt.bar(a['repo'], a['xmatch'], alpha=0.7, label='excluded')\n",
    "plt.bar(b['repo'], b['xmatch'], alpha=0.7, label='adapted')\n",
    "plt.bar(c['repo'], c['xmatch'], alpha=0.7, label='proposed method')\n",
    "plt.legend()\n"
   ]
  },
  {
   "cell_type": "code",
   "execution_count": 325,
   "id": "41808aa2",
   "metadata": {},
   "outputs": [
    {
     "data": {
      "text/plain": [
       "<BarContainer object of 8 artists>"
      ]
     },
     "execution_count": 325,
     "metadata": {},
     "output_type": "execute_result"
    },
    {
     "data": {
      "image/png": "[encoded data removed]",
      "text/plain": [
       "<Figure size 432x288 with 1 Axes>"
      ]
     },
     "metadata": {
      "needs_background": "light"
     },
     "output_type": "display_data"
    }
   ],
   "source": [
    "fig, ax = plt.subplots(1)\n",
    "ax.set_ylim(ymax=100)\n",
    "plt.bar(a['repo'], a['xmatch'], alpha=0.7, label='excluded')"
   ]
  },
  {
   "cell_type": "code",
   "execution_count": 326,
   "id": "f3eb2bf0",
   "metadata": {},
   "outputs": [
    {
     "data": {
      "text/plain": [
       "<BarContainer object of 8 artists>"
      ]
     },
     "execution_count": 326,
     "metadata": {},
     "output_type": "execute_result"
    },
    {
     "data": {
      "image/png": "[encoded data removed]",
      "text/plain": [
       "<Figure size 432x288 with 1 Axes>"
      ]
     },
     "metadata": {
      "needs_background": "light"
     },
     "output_type": "display_data"
    }
   ],
   "source": [
    "fig, ax = plt.subplots(1)\n",
    "ax.set_ylim(ymax=100)\n",
    "plt.bar(c['repo'], c['xmatch'], alpha=0.7, label='proposed method')\n",
    "\n"
   ]
  },
  {
   "cell_type": "code",
   "execution_count": 327,
   "id": "46b7fb0e",
   "metadata": {},
   "outputs": [
    {
     "data": {
      "text/html": [
       "<div>\n",
       "<style scoped>\n",
       "    .dataframe tbody tr th:only-of-type {\n",
       "        vertical-align: middle;\n",
       "    }\n",
       "\n",
       "    .dataframe tbody tr th {\n",
       "        vertical-align: top;\n",
       "    }\n",
       "\n",
       "    .dataframe thead th {\n",
       "        text-align: right;\n",
       "    }\n",
       "</style>\n",
       "<table border=\"1\" class=\"dataframe\">\n",
       "  <thead>\n",
       "    <tr style=\"text-align: right;\">\n",
       "      <th></th>\n",
       "      <th>name</th>\n",
       "      <th>repo</th>\n",
       "      <th>xmatch</th>\n",
       "      <th>blue</th>\n",
       "      <th>samples</th>\n",
       "      <th>date</th>\n",
       "      <th>model</th>\n",
       "    </tr>\n",
       "  </thead>\n",
       "  <tbody>\n",
       "    <tr>\n",
       "      <th>8</th>\n",
       "      <td>normal</td>\n",
       "      <td>https://api.github.com/repos/realm/realm-java</td>\n",
       "      <td>0.00</td>\n",
       "      <td>84.23</td>\n",
       "      <td>10</td>\n",
       "      <td>16-05-2022_00-26-31</td>\n",
       "      <td>/home/arminz/scratch/Xoutputs/train_source/che...</td>\n",
       "    </tr>\n",
       "    <tr>\n",
       "      <th>9</th>\n",
       "      <td>normal</td>\n",
       "      <td>https://api.github.com/repos/wordpress-mobile/...</td>\n",
       "      <td>10.00</td>\n",
       "      <td>89.23</td>\n",
       "      <td>10</td>\n",
       "      <td>16-05-2022_00-26-54</td>\n",
       "      <td>/home/arminz/scratch/Xoutputs/train_source/che...</td>\n",
       "    </tr>\n",
       "    <tr>\n",
       "      <th>7</th>\n",
       "      <td>normal</td>\n",
       "      <td>https://api.github.com/repos/rstudio/rstudio</td>\n",
       "      <td>18.18</td>\n",
       "      <td>73.59</td>\n",
       "      <td>11</td>\n",
       "      <td>16-05-2022_00-26-09</td>\n",
       "      <td>/home/arminz/scratch/Xoutputs/train_source/che...</td>\n",
       "    </tr>\n",
       "    <tr>\n",
       "      <th>5</th>\n",
       "      <td>normal</td>\n",
       "      <td>https://api.github.com/repos/dstockwell/chromium</td>\n",
       "      <td>8.33</td>\n",
       "      <td>61.44</td>\n",
       "      <td>12</td>\n",
       "      <td>16-05-2022_00-25-22</td>\n",
       "      <td>/home/arminz/scratch/Xoutputs/train_source/che...</td>\n",
       "    </tr>\n",
       "    <tr>\n",
       "      <th>6</th>\n",
       "      <td>normal</td>\n",
       "      <td>https://api.github.com/repos/ihmcrobotics/ihmc...</td>\n",
       "      <td>8.33</td>\n",
       "      <td>61.98</td>\n",
       "      <td>12</td>\n",
       "      <td>16-05-2022_00-25-47</td>\n",
       "      <td>/home/arminz/scratch/Xoutputs/train_source/che...</td>\n",
       "    </tr>\n",
       "    <tr>\n",
       "      <th>3</th>\n",
       "      <td>normal</td>\n",
       "      <td>https://api.github.com/repos/orientechnologies...</td>\n",
       "      <td>4.76</td>\n",
       "      <td>73.25</td>\n",
       "      <td>21</td>\n",
       "      <td>16-05-2022_00-24-12</td>\n",
       "      <td>/home/arminz/scratch/Xoutputs/train_source/che...</td>\n",
       "    </tr>\n",
       "    <tr>\n",
       "      <th>4</th>\n",
       "      <td>normal</td>\n",
       "      <td>https://api.github.com/repos/CoprHD/coprhd-con...</td>\n",
       "      <td>4.76</td>\n",
       "      <td>78.07</td>\n",
       "      <td>21</td>\n",
       "      <td>16-05-2022_00-24-54</td>\n",
       "      <td>/home/arminz/scratch/Xoutputs/train_source/che...</td>\n",
       "    </tr>\n",
       "    <tr>\n",
       "      <th>2</th>\n",
       "      <td>normal</td>\n",
       "      <td>https://api.github.com/repos/pjreiniger/snobot...</td>\n",
       "      <td>0.00</td>\n",
       "      <td>69.43</td>\n",
       "      <td>34</td>\n",
       "      <td>16-05-2022_00-23-18</td>\n",
       "      <td>/home/arminz/scratch/Xoutputs/train_source/che...</td>\n",
       "    </tr>\n",
       "  </tbody>\n",
       "</table>\n",
       "</div>"
      ],
      "text/plain": [
       "     name                                               repo  xmatch   blue  \\\n",
       "8  normal      https://api.github.com/repos/realm/realm-java    0.00  84.23   \n",
       "9  normal  https://api.github.com/repos/wordpress-mobile/...   10.00  89.23   \n",
       "7  normal       https://api.github.com/repos/rstudio/rstudio   18.18  73.59   \n",
       "5  normal   https://api.github.com/repos/dstockwell/chromium    8.33  61.44   \n",
       "6  normal  https://api.github.com/repos/ihmcrobotics/ihmc...    8.33  61.98   \n",
       "3  normal  https://api.github.com/repos/orientechnologies...    4.76  73.25   \n",
       "4  normal  https://api.github.com/repos/CoprHD/coprhd-con...    4.76  78.07   \n",
       "2  normal  https://api.github.com/repos/pjreiniger/snobot...    0.00  69.43   \n",
       "\n",
       "   samples                 date  \\\n",
       "8       10  16-05-2022_00-26-31   \n",
       "9       10  16-05-2022_00-26-54   \n",
       "7       11  16-05-2022_00-26-09   \n",
       "5       12  16-05-2022_00-25-22   \n",
       "6       12  16-05-2022_00-25-47   \n",
       "3       21  16-05-2022_00-24-12   \n",
       "4       21  16-05-2022_00-24-54   \n",
       "2       34  16-05-2022_00-23-18   \n",
       "\n",
       "                                               model  \n",
       "8  /home/arminz/scratch/Xoutputs/train_source/che...  \n",
       "9  /home/arminz/scratch/Xoutputs/train_source/che...  \n",
       "7  /home/arminz/scratch/Xoutputs/train_source/che...  \n",
       "5  /home/arminz/scratch/Xoutputs/train_source/che...  \n",
       "6  /home/arminz/scratch/Xoutputs/train_source/che...  \n",
       "3  /home/arminz/scratch/Xoutputs/train_source/che...  \n",
       "4  /home/arminz/scratch/Xoutputs/train_source/che...  \n",
       "2  /home/arminz/scratch/Xoutputs/train_source/che...  "
      ]
     },
     "execution_count": 327,
     "metadata": {},
     "output_type": "execute_result"
    }
   ],
   "source": [
    "a"
   ]
  },
  {
   "cell_type": "code",
   "execution_count": 328,
   "id": "fc70a61c",
   "metadata": {},
   "outputs": [
    {
     "data": {
      "text/html": [
       "<div>\n",
       "<style scoped>\n",
       "    .dataframe tbody tr th:only-of-type {\n",
       "        vertical-align: middle;\n",
       "    }\n",
       "\n",
       "    .dataframe tbody tr th {\n",
       "        vertical-align: top;\n",
       "    }\n",
       "\n",
       "    .dataframe thead th {\n",
       "        text-align: right;\n",
       "    }\n",
       "</style>\n",
       "<table border=\"1\" class=\"dataframe\">\n",
       "  <thead>\n",
       "    <tr style=\"text-align: right;\">\n",
       "      <th></th>\n",
       "      <th>name</th>\n",
       "      <th>repo</th>\n",
       "      <th>xmatch</th>\n",
       "      <th>blue</th>\n",
       "      <th>samples</th>\n",
       "      <th>date</th>\n",
       "      <th>model</th>\n",
       "    </tr>\n",
       "  </thead>\n",
       "  <tbody>\n",
       "    <tr>\n",
       "      <th>24</th>\n",
       "      <td>normal</td>\n",
       "      <td>https://api.github.com/repos/realm/realm-java</td>\n",
       "      <td>10.00</td>\n",
       "      <td>88.15</td>\n",
       "      <td>10</td>\n",
       "      <td>17-05-2022_12-16-39</td>\n",
       "      <td>/home/armin/scratch/Xoutputs/adapted/reverse/t...</td>\n",
       "    </tr>\n",
       "    <tr>\n",
       "      <th>25</th>\n",
       "      <td>normal</td>\n",
       "      <td>https://api.github.com/repos/wordpress-mobile/...</td>\n",
       "      <td>10.00</td>\n",
       "      <td>85.62</td>\n",
       "      <td>10</td>\n",
       "      <td>17-05-2022_12-16-54</td>\n",
       "      <td>/home/armin/scratch/Xoutputs/adapted/reverse/t...</td>\n",
       "    </tr>\n",
       "    <tr>\n",
       "      <th>23</th>\n",
       "      <td>normal</td>\n",
       "      <td>https://api.github.com/repos/rstudio/rstudio</td>\n",
       "      <td>18.18</td>\n",
       "      <td>74.79</td>\n",
       "      <td>11</td>\n",
       "      <td>17-05-2022_12-51-15</td>\n",
       "      <td>/home/armin/scratch/Xoutputs/adapted/reverse/t...</td>\n",
       "    </tr>\n",
       "    <tr>\n",
       "      <th>21</th>\n",
       "      <td>normal</td>\n",
       "      <td>https://api.github.com/repos/dstockwell/chromium</td>\n",
       "      <td>8.33</td>\n",
       "      <td>67.34</td>\n",
       "      <td>12</td>\n",
       "      <td>17-05-2022_12-15-54</td>\n",
       "      <td>/home/armin/scratch/Xoutputs/adapted/reverse/t...</td>\n",
       "    </tr>\n",
       "    <tr>\n",
       "      <th>22</th>\n",
       "      <td>normal</td>\n",
       "      <td>https://api.github.com/repos/ihmcrobotics/ihmc...</td>\n",
       "      <td>16.67</td>\n",
       "      <td>75.57</td>\n",
       "      <td>12</td>\n",
       "      <td>17-05-2022_12-28-14</td>\n",
       "      <td>/home/armin/scratch/Xoutputs/adapted/reverse/t...</td>\n",
       "    </tr>\n",
       "    <tr>\n",
       "      <th>19</th>\n",
       "      <td>normal</td>\n",
       "      <td>https://api.github.com/repos/orientechnologies...</td>\n",
       "      <td>9.52</td>\n",
       "      <td>72.38</td>\n",
       "      <td>21</td>\n",
       "      <td>17-05-2022_12-15-18</td>\n",
       "      <td>/home/armin/scratch/Xoutputs/adapted/reverse/t...</td>\n",
       "    </tr>\n",
       "    <tr>\n",
       "      <th>20</th>\n",
       "      <td>normal</td>\n",
       "      <td>https://api.github.com/repos/CoprHD/coprhd-con...</td>\n",
       "      <td>4.76</td>\n",
       "      <td>78.58</td>\n",
       "      <td>21</td>\n",
       "      <td>17-05-2022_12-15-41</td>\n",
       "      <td>/home/armin/scratch/Xoutputs/adapted/reverse/t...</td>\n",
       "    </tr>\n",
       "    <tr>\n",
       "      <th>18</th>\n",
       "      <td>normal</td>\n",
       "      <td>https://api.github.com/repos/pjreiniger/snobot...</td>\n",
       "      <td>70.59</td>\n",
       "      <td>94.71</td>\n",
       "      <td>34</td>\n",
       "      <td>17-05-2022_15-33-13</td>\n",
       "      <td>/home/armin/scratch/Xoutputs/adapted/reverse/t...</td>\n",
       "    </tr>\n",
       "  </tbody>\n",
       "</table>\n",
       "</div>"
      ],
      "text/plain": [
       "      name                                               repo  xmatch   blue  \\\n",
       "24  normal      https://api.github.com/repos/realm/realm-java   10.00  88.15   \n",
       "25  normal  https://api.github.com/repos/wordpress-mobile/...   10.00  85.62   \n",
       "23  normal       https://api.github.com/repos/rstudio/rstudio   18.18  74.79   \n",
       "21  normal   https://api.github.com/repos/dstockwell/chromium    8.33  67.34   \n",
       "22  normal  https://api.github.com/repos/ihmcrobotics/ihmc...   16.67  75.57   \n",
       "19  normal  https://api.github.com/repos/orientechnologies...    9.52  72.38   \n",
       "20  normal  https://api.github.com/repos/CoprHD/coprhd-con...    4.76  78.58   \n",
       "18  normal  https://api.github.com/repos/pjreiniger/snobot...   70.59  94.71   \n",
       "\n",
       "    samples                 date  \\\n",
       "24       10  17-05-2022_12-16-39   \n",
       "25       10  17-05-2022_12-16-54   \n",
       "23       11  17-05-2022_12-51-15   \n",
       "21       12  17-05-2022_12-15-54   \n",
       "22       12  17-05-2022_12-28-14   \n",
       "19       21  17-05-2022_12-15-18   \n",
       "20       21  17-05-2022_12-15-41   \n",
       "18       34  17-05-2022_15-33-13   \n",
       "\n",
       "                                                model  \n",
       "24  /home/armin/scratch/Xoutputs/adapted/reverse/t...  \n",
       "25  /home/armin/scratch/Xoutputs/adapted/reverse/t...  \n",
       "23  /home/armin/scratch/Xoutputs/adapted/reverse/t...  \n",
       "21  /home/armin/scratch/Xoutputs/adapted/reverse/t...  \n",
       "22  /home/armin/scratch/Xoutputs/adapted/reverse/t...  \n",
       "19  /home/armin/scratch/Xoutputs/adapted/reverse/t...  \n",
       "20  /home/armin/scratch/Xoutputs/adapted/reverse/t...  \n",
       "18  /home/armin/scratch/Xoutputs/adapted/reverse/t...  "
      ]
     },
     "execution_count": 328,
     "metadata": {},
     "output_type": "execute_result"
    }
   ],
   "source": [
    "c"
   ]
  },
  {
   "cell_type": "code",
   "execution_count": 329,
   "id": "f2821e2e",
   "metadata": {},
   "outputs": [
    {
     "ename": "ValueError",
     "evalue": "Can only compare identically-labeled Series objects",
     "output_type": "error",
     "traceback": [
      "\u001b[0;31m---------------------------------------------------------------------------\u001b[0m",
      "\u001b[0;31mValueError\u001b[0m                                Traceback (most recent call last)",
      "\u001b[0;32m/tmp/ipykernel_26252/1300390405.py\u001b[0m in \u001b[0;36m<module>\u001b[0;34m\u001b[0m\n\u001b[0;32m----> 1\u001b[0;31m \u001b[0mb\u001b[0m\u001b[0;34m[\u001b[0m\u001b[0;34m'samples'\u001b[0m\u001b[0;34m]\u001b[0m \u001b[0;34m==\u001b[0m \u001b[0ma\u001b[0m\u001b[0;34m[\u001b[0m\u001b[0;34m'samples'\u001b[0m\u001b[0;34m]\u001b[0m\u001b[0;34m\u001b[0m\u001b[0;34m\u001b[0m\u001b[0m\n\u001b[0m",
      "\u001b[0;32m~/TFix/env/lib/python3.8/site-packages/pandas/core/ops/common.py\u001b[0m in \u001b[0;36mnew_method\u001b[0;34m(self, other)\u001b[0m\n\u001b[1;32m     67\u001b[0m         \u001b[0mother\u001b[0m \u001b[0;34m=\u001b[0m \u001b[0mitem_from_zerodim\u001b[0m\u001b[0;34m(\u001b[0m\u001b[0mother\u001b[0m\u001b[0;34m)\u001b[0m\u001b[0;34m\u001b[0m\u001b[0;34m\u001b[0m\u001b[0m\n\u001b[1;32m     68\u001b[0m \u001b[0;34m\u001b[0m\u001b[0m\n\u001b[0;32m---> 69\u001b[0;31m         \u001b[0;32mreturn\u001b[0m \u001b[0mmethod\u001b[0m\u001b[0;34m(\u001b[0m\u001b[0mself\u001b[0m\u001b[0;34m,\u001b[0m \u001b[0mother\u001b[0m\u001b[0;34m)\u001b[0m\u001b[0;34m\u001b[0m\u001b[0;34m\u001b[0m\u001b[0m\n\u001b[0m\u001b[1;32m     70\u001b[0m \u001b[0;34m\u001b[0m\u001b[0m\n\u001b[1;32m     71\u001b[0m     \u001b[0;32mreturn\u001b[0m \u001b[0mnew_method\u001b[0m\u001b[0;34m\u001b[0m\u001b[0;34m\u001b[0m\u001b[0m\n",
      "\u001b[0;32m~/TFix/env/lib/python3.8/site-packages/pandas/core/arraylike.py\u001b[0m in \u001b[0;36m__eq__\u001b[0;34m(self, other)\u001b[0m\n\u001b[1;32m     30\u001b[0m     \u001b[0;34m@\u001b[0m\u001b[0munpack_zerodim_and_defer\u001b[0m\u001b[0;34m(\u001b[0m\u001b[0;34m\"__eq__\"\u001b[0m\u001b[0;34m)\u001b[0m\u001b[0;34m\u001b[0m\u001b[0;34m\u001b[0m\u001b[0m\n\u001b[1;32m     31\u001b[0m     \u001b[0;32mdef\u001b[0m \u001b[0m__eq__\u001b[0m\u001b[0;34m(\u001b[0m\u001b[0mself\u001b[0m\u001b[0;34m,\u001b[0m \u001b[0mother\u001b[0m\u001b[0;34m)\u001b[0m\u001b[0;34m:\u001b[0m\u001b[0;34m\u001b[0m\u001b[0;34m\u001b[0m\u001b[0m\n\u001b[0;32m---> 32\u001b[0;31m         \u001b[0;32mreturn\u001b[0m \u001b[0mself\u001b[0m\u001b[0;34m.\u001b[0m\u001b[0m_cmp_method\u001b[0m\u001b[0;34m(\u001b[0m\u001b[0mother\u001b[0m\u001b[0;34m,\u001b[0m \u001b[0moperator\u001b[0m\u001b[0;34m.\u001b[0m\u001b[0meq\u001b[0m\u001b[0;34m)\u001b[0m\u001b[0;34m\u001b[0m\u001b[0;34m\u001b[0m\u001b[0m\n\u001b[0m\u001b[1;32m     33\u001b[0m \u001b[0;34m\u001b[0m\u001b[0m\n\u001b[1;32m     34\u001b[0m     \u001b[0;34m@\u001b[0m\u001b[0munpack_zerodim_and_defer\u001b[0m\u001b[0;34m(\u001b[0m\u001b[0;34m\"__ne__\"\u001b[0m\u001b[0;34m)\u001b[0m\u001b[0;34m\u001b[0m\u001b[0;34m\u001b[0m\u001b[0m\n",
      "\u001b[0;32m~/TFix/env/lib/python3.8/site-packages/pandas/core/series.py\u001b[0m in \u001b[0;36m_cmp_method\u001b[0;34m(self, other, op)\u001b[0m\n\u001b[1;32m   5494\u001b[0m \u001b[0;34m\u001b[0m\u001b[0m\n\u001b[1;32m   5495\u001b[0m         \u001b[0;32mif\u001b[0m \u001b[0misinstance\u001b[0m\u001b[0;34m(\u001b[0m\u001b[0mother\u001b[0m\u001b[0;34m,\u001b[0m \u001b[0mSeries\u001b[0m\u001b[0;34m)\u001b[0m \u001b[0;32mand\u001b[0m \u001b[0;32mnot\u001b[0m \u001b[0mself\u001b[0m\u001b[0;34m.\u001b[0m\u001b[0m_indexed_same\u001b[0m\u001b[0;34m(\u001b[0m\u001b[0mother\u001b[0m\u001b[0;34m)\u001b[0m\u001b[0;34m:\u001b[0m\u001b[0;34m\u001b[0m\u001b[0;34m\u001b[0m\u001b[0m\n\u001b[0;32m-> 5496\u001b[0;31m             \u001b[0;32mraise\u001b[0m \u001b[0mValueError\u001b[0m\u001b[0;34m(\u001b[0m\u001b[0;34m\"Can only compare identically-labeled Series objects\"\u001b[0m\u001b[0;34m)\u001b[0m\u001b[0;34m\u001b[0m\u001b[0;34m\u001b[0m\u001b[0m\n\u001b[0m\u001b[1;32m   5497\u001b[0m \u001b[0;34m\u001b[0m\u001b[0m\n\u001b[1;32m   5498\u001b[0m         \u001b[0mlvalues\u001b[0m \u001b[0;34m=\u001b[0m \u001b[0mself\u001b[0m\u001b[0;34m.\u001b[0m\u001b[0m_values\u001b[0m\u001b[0;34m\u001b[0m\u001b[0;34m\u001b[0m\u001b[0m\n",
      "\u001b[0;31mValueError\u001b[0m: Can only compare identically-labeled Series objects"
     ]
    }
   ],
   "source": [
    "b['samples'] == a['samples']"
   ]
  },
  {
   "cell_type": "code",
   "execution_count": null,
   "id": "b6a642a3",
   "metadata": {},
   "outputs": [],
   "source": []
  },
  {
   "cell_type": "code",
   "execution_count": null,
   "id": "51a51b70",
   "metadata": {},
   "outputs": [],
   "source": []
  },
  {
   "cell_type": "code",
   "execution_count": null,
   "id": "f817aaef",
   "metadata": {},
   "outputs": [],
   "source": []
  },
  {
   "cell_type": "code",
   "execution_count": null,
   "id": "96bc22da",
   "metadata": {},
   "outputs": [],
   "source": []
  },
  {
   "cell_type": "code",
   "execution_count": null,
   "id": "6684e8a4",
   "metadata": {},
   "outputs": [],
   "source": []
  }
 ],
 "metadata": {
  "kernelspec": {
   "display_name": "Python 3",
   "language": "python",
   "name": "python3"
  },
  "language_info": {
   "codemirror_mode": {
    "name": "ipython",
    "version": 3
   },
   "file_extension": ".py",
   "mimetype": "text/x-python",
   "name": "python",
   "nbconvert_exporter": "python",
   "pygments_lexer": "ipython3",
   "version": "3.8.10"
  }
 },
 "nbformat": 4,
 "nbformat_minor": 5
}
